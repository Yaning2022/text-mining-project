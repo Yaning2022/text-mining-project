{
 "cells": [
  {
   "cell_type": "markdown",
   "id": "6baf4156-9907-4bb1-a027-23f6aa19b427",
   "metadata": {},
   "source": [
    "<font size=\"6\">Load and check the data</font>"
   ]
  },
  {
   "cell_type": "code",
   "execution_count": 1,
   "id": "cca7fd60-7560-4177-935a-78afdfe69f89",
   "metadata": {},
   "outputs": [],
   "source": [
    "import pandas as pd\n",
    "import numpy as np\n",
    "import matplotlib.pyplot as plt\n",
    "import warnings\n",
    "warnings.filterwarnings('ignore')"
   ]
  },
  {
   "cell_type": "code",
   "execution_count": 2,
   "id": "0be51adb-429e-4d87-882b-158fa4835485",
   "metadata": {},
   "outputs": [],
   "source": [
    "data = pd.read_csv('Symptom2Disease.csv', encoding='latin-1')"
   ]
  },
  {
   "cell_type": "code",
   "execution_count": 3,
   "id": "8d804d72-dd3e-4c51-a8f1-daf8a60d8a08",
   "metadata": {},
   "outputs": [
    {
     "data": {
      "text/html": [
       "<div>\n",
       "<style scoped>\n",
       "    .dataframe tbody tr th:only-of-type {\n",
       "        vertical-align: middle;\n",
       "    }\n",
       "\n",
       "    .dataframe tbody tr th {\n",
       "        vertical-align: top;\n",
       "    }\n",
       "\n",
       "    .dataframe thead th {\n",
       "        text-align: right;\n",
       "    }\n",
       "</style>\n",
       "<table border=\"1\" class=\"dataframe\">\n",
       "  <thead>\n",
       "    <tr style=\"text-align: right;\">\n",
       "      <th></th>\n",
       "      <th>Unnamed: 0</th>\n",
       "      <th>label</th>\n",
       "      <th>text</th>\n",
       "    </tr>\n",
       "  </thead>\n",
       "  <tbody>\n",
       "    <tr>\n",
       "      <th>0</th>\n",
       "      <td>0</td>\n",
       "      <td>Psoriasis</td>\n",
       "      <td>I have been experiencing a skin rash on my arm...</td>\n",
       "    </tr>\n",
       "    <tr>\n",
       "      <th>1</th>\n",
       "      <td>1</td>\n",
       "      <td>Psoriasis</td>\n",
       "      <td>My skin has been peeling, especially on my kne...</td>\n",
       "    </tr>\n",
       "    <tr>\n",
       "      <th>2</th>\n",
       "      <td>2</td>\n",
       "      <td>Psoriasis</td>\n",
       "      <td>I have been experiencing joint pain in my fing...</td>\n",
       "    </tr>\n",
       "    <tr>\n",
       "      <th>3</th>\n",
       "      <td>3</td>\n",
       "      <td>Psoriasis</td>\n",
       "      <td>There is a silver like dusting on my skin, esp...</td>\n",
       "    </tr>\n",
       "    <tr>\n",
       "      <th>4</th>\n",
       "      <td>4</td>\n",
       "      <td>Psoriasis</td>\n",
       "      <td>My nails have small dents or pits in them, and...</td>\n",
       "    </tr>\n",
       "    <tr>\n",
       "      <th>...</th>\n",
       "      <td>...</td>\n",
       "      <td>...</td>\n",
       "      <td>...</td>\n",
       "    </tr>\n",
       "    <tr>\n",
       "      <th>1195</th>\n",
       "      <td>295</td>\n",
       "      <td>diabetes</td>\n",
       "      <td>I'm shaking and trembling all over. I've lost ...</td>\n",
       "    </tr>\n",
       "    <tr>\n",
       "      <th>1196</th>\n",
       "      <td>296</td>\n",
       "      <td>diabetes</td>\n",
       "      <td>Particularly in the crevices of my skin, I hav...</td>\n",
       "    </tr>\n",
       "    <tr>\n",
       "      <th>1197</th>\n",
       "      <td>297</td>\n",
       "      <td>diabetes</td>\n",
       "      <td>I regularly experience these intense urges and...</td>\n",
       "    </tr>\n",
       "    <tr>\n",
       "      <th>1198</th>\n",
       "      <td>298</td>\n",
       "      <td>diabetes</td>\n",
       "      <td>I have trouble breathing, especially outside. ...</td>\n",
       "    </tr>\n",
       "    <tr>\n",
       "      <th>1199</th>\n",
       "      <td>299</td>\n",
       "      <td>diabetes</td>\n",
       "      <td>I constantly sneeze and have a dry cough. My i...</td>\n",
       "    </tr>\n",
       "  </tbody>\n",
       "</table>\n",
       "<p>1200 rows × 3 columns</p>\n",
       "</div>"
      ],
      "text/plain": [
       "      Unnamed: 0      label                                               text\n",
       "0              0  Psoriasis  I have been experiencing a skin rash on my arm...\n",
       "1              1  Psoriasis  My skin has been peeling, especially on my kne...\n",
       "2              2  Psoriasis  I have been experiencing joint pain in my fing...\n",
       "3              3  Psoriasis  There is a silver like dusting on my skin, esp...\n",
       "4              4  Psoriasis  My nails have small dents or pits in them, and...\n",
       "...          ...        ...                                                ...\n",
       "1195         295   diabetes  I'm shaking and trembling all over. I've lost ...\n",
       "1196         296   diabetes  Particularly in the crevices of my skin, I hav...\n",
       "1197         297   diabetes  I regularly experience these intense urges and...\n",
       "1198         298   diabetes  I have trouble breathing, especially outside. ...\n",
       "1199         299   diabetes  I constantly sneeze and have a dry cough. My i...\n",
       "\n",
       "[1200 rows x 3 columns]"
      ]
     },
     "execution_count": 3,
     "metadata": {},
     "output_type": "execute_result"
    }
   ],
   "source": [
    "data"
   ]
  },
  {
   "cell_type": "code",
   "execution_count": 4,
   "id": "c96571cb",
   "metadata": {},
   "outputs": [
    {
     "data": {
      "text/plain": [
       "1200"
      ]
     },
     "execution_count": 4,
     "metadata": {},
     "output_type": "execute_result"
    }
   ],
   "source": [
    "len(data)"
   ]
  },
  {
   "cell_type": "code",
   "execution_count": 5,
   "id": "8222d426",
   "metadata": {},
   "outputs": [
    {
     "data": {
      "text/plain": [
       "array(['Acne', 'Arthritis', 'Bronchial Asthma', 'Cervical spondylosis',\n",
       "       'Chicken pox', 'Common Cold', 'Dengue', 'Dimorphic Hemorrhoids',\n",
       "       'Fungal infection', 'Hypertension', 'Impetigo', 'Jaundice',\n",
       "       'Malaria', 'Migraine', 'Pneumonia', 'Psoriasis', 'Typhoid',\n",
       "       'Varicose Veins', 'allergy', 'diabetes', 'drug reaction',\n",
       "       'gastroesophageal reflux disease', 'peptic ulcer disease',\n",
       "       'urinary tract infection'], dtype=object)"
      ]
     },
     "execution_count": 5,
     "metadata": {},
     "output_type": "execute_result"
    }
   ],
   "source": [
    "np.unique(data['label'])"
   ]
  },
  {
   "cell_type": "code",
   "execution_count": 6,
   "id": "a9670ca9",
   "metadata": {},
   "outputs": [
    {
     "data": {
      "text/plain": [
       "24"
      ]
     },
     "execution_count": 6,
     "metadata": {},
     "output_type": "execute_result"
    }
   ],
   "source": [
    "len(np.unique(data['label']))"
   ]
  },
  {
   "cell_type": "code",
   "execution_count": 7,
   "id": "2711dabd-5cf6-44e4-a7aa-b55851c3e276",
   "metadata": {},
   "outputs": [
    {
     "data": {
      "image/png": "[encoded data removed]",
      "text/plain": [
       "<Figure size 640x480 with 1 Axes>"
      ]
     },
     "metadata": {},
     "output_type": "display_data"
    }
   ],
   "source": [
    "labels = data['label']\n",
    "label_counts = labels.value_counts().sort_index()\n",
    "plt.barh(label_counts.index,label_counts.values)\n",
    "plt.xlabel('Count')\n",
    "plt.ylabel('label')\n",
    "plt.title('label Distribution', fontsize=12)\n",
    "plt.show()"
   ]
  },
  {
   "cell_type": "markdown",
   "id": "214c6f10-4021-4af6-aad3-dcafcd670af8",
   "metadata": {},
   "source": [
    "<font size=\"6\">Text Preprocessing</font>"
   ]
  },
  {
   "cell_type": "code",
   "execution_count": 8,
   "id": "536a57a3-6170-45ae-8e2b-9e24f90e0dc5",
   "metadata": {},
   "outputs": [],
   "source": [
    "import string\n",
    "import nltk\n",
    "import re\n",
    "from nltk.corpus import stopwords\n",
    "def clean_text(text):\n",
    "    #remove the specified symbols and replaced by space\n",
    "    text=re.sub(\"\\[.*#&]\",\" \",text)\n",
    "    #Punctuation removal\n",
    "    words = text.lower().split()\n",
    "    words = [word.lower().translate(str.maketrans('', '', string.punctuation)) for word in words]\n",
    "    \n",
    "    #Stopword removal\n",
    "    stop_words = stopwords.words('english')\n",
    "    words = [word for word in words if word not in stop_words]\n",
    "    \n",
    "    #Joining the text\n",
    "    processed_text = ' '.join(words)\n",
    "    return processed_text"
   ]
  },
  {
   "cell_type": "code",
   "execution_count": 9,
   "id": "8eaf2eab-8fbd-4545-b84d-669d3d2c65f2",
   "metadata": {},
   "outputs": [
    {
     "data": {
      "text/plain": [
       "0       experiencing skin rash arms legs torso past we...\n",
       "1       skin peeling especially knees elbows scalp pee...\n",
       "2       experiencing joint pain fingers wrists knees p...\n",
       "3       silver like dusting skin especially lower back...\n",
       "4       nails small dents pits often feel inflammatory...\n",
       "                              ...                        \n",
       "1195    im shaking trembling ive lost sense taste smel...\n",
       "1196    particularly crevices skin skin rashes irritat...\n",
       "1197    regularly experience intense urges want urinat...\n",
       "1198    trouble breathing especially outside start fee...\n",
       "1199    constantly sneeze dry cough infections dont se...\n",
       "Name: text, Length: 1200, dtype: object"
      ]
     },
     "execution_count": 9,
     "metadata": {},
     "output_type": "execute_result"
    }
   ],
   "source": [
    "data['text'].apply(clean_text)"
   ]
  },
  {
   "cell_type": "code",
   "execution_count": 10,
   "id": "99d67346-dacc-49a4-930a-1e28f1f4a0f3",
   "metadata": {},
   "outputs": [],
   "source": [
    "from sklearn.model_selection import train_test_split\n",
    "from sklearn.preprocessing import LabelEncoder\n",
    "le = LabelEncoder()\n",
    "X = data['text']\n",
    "y = le.fit_transform(data['label'])\n",
    "#80% of training data and 20% of testing data\n",
    "X_train, X_test, y_train, y_test = train_test_split(X, y, test_size=0.2, random_state=42)"
   ]
  },
  {
   "cell_type": "markdown",
   "id": "3961cf5f-062c-4466-83bc-b60669526d47",
   "metadata": {},
   "source": [
    "<font size=\"6\">Methods</font>"
   ]
  },
  {
   "cell_type": "code",
   "execution_count": 11,
   "id": "34ea03d4-6cd8-4f24-b8b8-36b3a11a1301",
   "metadata": {},
   "outputs": [
    {
     "name": "stdout",
     "output_type": "stream",
     "text": [
      "Wall time: 20.6 ms\n"
     ]
    }
   ],
   "source": [
    "%%time\n",
    "from sklearn.feature_extraction.text import TfidfVectorizer\n",
    "\n",
    "vectorizer = TfidfVectorizer()\n",
    "X_train_vector = vectorizer.fit_transform(X_train)\n",
    "X_test_vector = vectorizer.transform(X_test)"
   ]
  },
  {
   "cell_type": "markdown",
   "id": "3020a2a0",
   "metadata": {},
   "source": [
    "<font size=\"4\">1 Baseline-Multinomial Naive bayes</font>"
   ]
  },
  {
   "cell_type": "code",
   "execution_count": 12,
   "id": "fd131e17-be24-4262-be62-cfa7d26f7b6e",
   "metadata": {
    "scrolled": true
   },
   "outputs": [
    {
     "name": "stdout",
     "output_type": "stream",
     "text": [
      "Classification Report for Multinomial NB: \n",
      "               precision    recall  f1-score   support\n",
      "\n",
      "           0       1.00      1.00      1.00         7\n",
      "           1       1.00      1.00      1.00        10\n",
      "           2       1.00      1.00      1.00        11\n",
      "           3       0.70      1.00      0.82         7\n",
      "           4       1.00      0.92      0.96        12\n",
      "           5       1.00      1.00      1.00        12\n",
      "           6       1.00      0.83      0.91        12\n",
      "           7       0.78      1.00      0.88         7\n",
      "           8       1.00      1.00      1.00        13\n",
      "           9       1.00      0.90      0.95        10\n",
      "          10       1.00      1.00      1.00        11\n",
      "          11       1.00      1.00      1.00        11\n",
      "          12       0.79      1.00      0.88        11\n",
      "          13       1.00      0.90      0.95        10\n",
      "          14       1.00      1.00      1.00        11\n",
      "          15       0.71      0.83      0.77         6\n",
      "          16       0.89      0.89      0.89         9\n",
      "          17       1.00      1.00      1.00        12\n",
      "          18       1.00      0.92      0.96        12\n",
      "          19       1.00      1.00      1.00         8\n",
      "          20       1.00      0.60      0.75         5\n",
      "          21       0.65      1.00      0.79        11\n",
      "          22       0.80      0.36      0.50        11\n",
      "          23       1.00      0.91      0.95        11\n",
      "\n",
      "    accuracy                           0.93       240\n",
      "   macro avg       0.93      0.92      0.91       240\n",
      "weighted avg       0.94      0.93      0.92       240\n",
      "\n",
      "Wall time: 9.29 ms\n"
     ]
    }
   ],
   "source": [
    "%%time\n",
    "from sklearn.naive_bayes import MultinomialNB\n",
    "from sklearn.metrics import classification_report\n",
    "naive_bayes_model = MultinomialNB()\n",
    "naive_bayes_model.fit(X_train_vector, y_train)\n",
    "y_pred = naive_bayes_model.predict(X_test_vector)\n",
    "print('Classification Report for Multinomial NB: \\n', classification_report(y_test, y_pred))"
   ]
  },
  {
   "cell_type": "code",
   "execution_count": 13,
   "id": "11e010e0-b1c4-4d1b-91e0-dc2c9109d19a",
   "metadata": {},
   "outputs": [
    {
     "name": "stdout",
     "output_type": "stream",
     "text": [
      "mean squared error: 5.129166666666666\n"
     ]
    }
   ],
   "source": [
    "from sklearn.metrics import mean_squared_error\n",
    "print('mean squared error:',mean_squared_error(y_test, y_pred))"
   ]
  },
  {
   "cell_type": "markdown",
   "id": "d34d90c0-4173-47a6-a957-7343e2062aea",
   "metadata": {},
   "source": [
    "<font size=\"4\">2  XGBClassifier</font>"
   ]
  },
  {
   "cell_type": "code",
   "execution_count": 14,
   "id": "a1d72bf5-7e4b-4222-9ec7-f8b8639c6232",
   "metadata": {},
   "outputs": [
    {
     "name": "stdout",
     "output_type": "stream",
     "text": [
      "Classification Report for XGBClassifier: \n",
      "               precision    recall  f1-score   support\n",
      "\n",
      "           0       1.00      0.86      0.92         7\n",
      "           1       1.00      1.00      1.00        10\n",
      "           2       0.92      1.00      0.96        11\n",
      "           3       1.00      0.86      0.92         7\n",
      "           4       0.69      0.75      0.72        12\n",
      "           5       0.86      1.00      0.92        12\n",
      "           6       0.86      0.50      0.63        12\n",
      "           7       1.00      1.00      1.00         7\n",
      "           8       0.93      1.00      0.96        13\n",
      "           9       1.00      1.00      1.00        10\n",
      "          10       1.00      0.91      0.95        11\n",
      "          11       1.00      1.00      1.00        11\n",
      "          12       1.00      1.00      1.00        11\n",
      "          13       0.90      0.90      0.90        10\n",
      "          14       1.00      1.00      1.00        11\n",
      "          15       0.71      0.83      0.77         6\n",
      "          16       0.82      1.00      0.90         9\n",
      "          17       1.00      0.92      0.96        12\n",
      "          18       0.75      0.50      0.60        12\n",
      "          19       0.73      1.00      0.84         8\n",
      "          20       0.40      0.80      0.53         5\n",
      "          21       0.77      0.91      0.83        11\n",
      "          22       0.86      0.55      0.67        11\n",
      "          23       1.00      0.91      0.95        11\n",
      "\n",
      "    accuracy                           0.88       240\n",
      "   macro avg       0.88      0.88      0.87       240\n",
      "weighted avg       0.89      0.88      0.88       240\n",
      "\n",
      "Wall time: 12.7 s\n"
     ]
    }
   ],
   "source": [
    "%%time\n",
    "from xgboost import XGBClassifier\n",
    "XGBClassifier_model = XGBClassifier(n_estimators=2000, learning_rate=0.25, max_depth=4, colsample_bytree=0.3, n_jobs=-1, random_state=40)\n",
    "XGBClassifier_model.fit(X_train_vector, y_train)\n",
    "y_pred = XGBClassifier_model.predict(X_test_vector)\n",
    "print('Classification Report for XGBClassifier: \\n', classification_report(y_test, y_pred))"
   ]
  },
  {
   "cell_type": "markdown",
   "id": "bddacb02-b6b4-4771-a6ed-85be7df16f04",
   "metadata": {},
   "source": [
    "<font size=\"4\">3  RandomForestClassifier</font>"
   ]
  },
  {
   "cell_type": "code",
   "execution_count": 15,
   "id": "ba520c52",
   "metadata": {},
   "outputs": [
    {
     "name": "stdout",
     "output_type": "stream",
     "text": [
      "Classification Report for RandomForest: \n",
      "               precision    recall  f1-score   support\n",
      "\n",
      "           0       1.00      1.00      1.00         7\n",
      "           1       0.91      1.00      0.95        10\n",
      "           2       1.00      1.00      1.00        11\n",
      "           3       0.88      1.00      0.93         7\n",
      "           4       0.83      0.83      0.83        12\n",
      "           5       1.00      1.00      1.00        12\n",
      "           6       1.00      0.58      0.74        12\n",
      "           7       1.00      1.00      1.00         7\n",
      "           8       1.00      1.00      1.00        13\n",
      "           9       1.00      1.00      1.00        10\n",
      "          10       1.00      1.00      1.00        11\n",
      "          11       1.00      1.00      1.00        11\n",
      "          12       1.00      1.00      1.00        11\n",
      "          13       1.00      1.00      1.00        10\n",
      "          14       1.00      1.00      1.00        11\n",
      "          15       1.00      0.83      0.91         6\n",
      "          16       0.82      1.00      0.90         9\n",
      "          17       0.85      0.92      0.88        12\n",
      "          18       1.00      0.92      0.96        12\n",
      "          19       1.00      1.00      1.00         8\n",
      "          20       0.83      1.00      0.91         5\n",
      "          21       0.92      1.00      0.96        11\n",
      "          22       0.83      0.91      0.87        11\n",
      "          23       1.00      0.91      0.95        11\n",
      "\n",
      "    accuracy                           0.95       240\n",
      "   macro avg       0.95      0.95      0.95       240\n",
      "weighted avg       0.95      0.95      0.95       240\n",
      "\n",
      "Wall time: 525 ms\n"
     ]
    }
   ],
   "source": [
    "%%time\n",
    "from sklearn.ensemble import RandomForestClassifier\n",
    "RandomForest_model = RandomForestClassifier()\n",
    "RandomForest_model.fit(X_train_vector, y_train)\n",
    "y_pred = RandomForest_model.predict(X_test_vector)\n",
    "print('Classification Report for RandomForest: \\n', classification_report(y_test, y_pred))"
   ]
  },
  {
   "cell_type": "markdown",
   "id": "94a5799e-2998-48f8-b06f-9fec30558559",
   "metadata": {},
   "source": [
    "<font size=\"4\">4 Neural Network</font>"
   ]
  },
  {
   "cell_type": "code",
   "execution_count": 34,
   "id": "e15614f2-df0b-4e06-88c6-1537226fa384",
   "metadata": {},
   "outputs": [
    {
     "name": "stdout",
     "output_type": "stream",
     "text": [
      "Wall time: 42.2 ms\n"
     ]
    }
   ],
   "source": [
    "%%time\n",
    "from tensorflow.keras.preprocessing.text import Tokenizer\n",
    "from tensorflow.keras.preprocessing.sequence import pad_sequences\n",
    "tokenizer = Tokenizer(oov_token=\"<OOV>\")\n",
    "tokenizer.fit_on_texts(X_train)\n",
    "word_index = tokenizer.word_index\n",
    "X_train_vector1=tokenizer.texts_to_sequences(X_train)\n",
    "X_train_vector=pad_sequences(X_train_vector1, maxlen=50,padding=\"post\")\n",
    "X_test_vector1=tokenizer.texts_to_sequences(X_test)\n",
    "X_test_vector=pad_sequences(X_test_vector1, padding=\"post\")"
   ]
  },
  {
   "cell_type": "code",
   "execution_count": 35,
   "id": "5406dd57-b748-42c7-98ce-4c71eca2f6ff",
   "metadata": {},
   "outputs": [
    {
     "name": "stdout",
     "output_type": "stream",
     "text": [
      "Model: \"sequential_3\"\n",
      "_________________________________________________________________\n",
      " Layer (type)                Output Shape              Param #   \n",
      "=================================================================\n",
      " embedding_3 (Embedding)     (None, 50, 128)           256000    \n",
      "                                                                 \n",
      " global_average_pooling1d_3   (None, 128)              0         \n",
      " (GlobalAveragePooling1D)                                        \n",
      "                                                                 \n",
      " dense_8 (Dense)             (None, 16)                2064      \n",
      "                                                                 \n",
      " dense_9 (Dense)             (None, 32)                544       \n",
      "                                                                 \n",
      " dense_10 (Dense)            (None, 24)                792       \n",
      "                                                                 \n",
      "=================================================================\n",
      "Total params: 259,400\n",
      "Trainable params: 259,400\n",
      "Non-trainable params: 0\n",
      "_________________________________________________________________\n",
      "Wall time: 63.1 ms\n"
     ]
    }
   ],
   "source": [
    "%%time\n",
    "# build the model with layers\n",
    "import tensorflow as tf\n",
    "model = tf.keras.Sequential([\n",
    "    tf.keras.layers.Embedding(2000, 128, input_length=len(X_train_vector[0])),\n",
    "    tf.keras.layers.GlobalAveragePooling1D(),\n",
    "    tf.keras.layers.Dense(16, activation=\"relu\"),\n",
    "    tf.keras.layers.Dense(32, activation=\"relu\"),\n",
    "    tf.keras.layers.Dense(24, activation=\"softmax\")\n",
    "])\n",
    "\n",
    "model.compile(optimizer='adam', loss=\"sparse_categorical_crossentropy\", metrics=['accuracy'])\n",
    "\n",
    "model.summary()"
   ]
  },
  {
   "cell_type": "code",
   "execution_count": 36,
   "id": "c5f9f94f-11cf-42df-8581-dcfc923deb05",
   "metadata": {},
   "outputs": [
    {
     "name": "stdout",
     "output_type": "stream",
     "text": [
      "Wall time: 2.51 s\n"
     ]
    }
   ],
   "source": [
    "%%time\n",
    "history=model.fit(X_train_vector, y_train, epochs=30,verbose=0,validation_data=(X_test_vector, y_test))"
   ]
  },
  {
   "cell_type": "code",
   "execution_count": 37,
   "id": "e49b11a9",
   "metadata": {},
   "outputs": [
    {
     "data": {
      "image/png": "[encoded data removed]",
      "text/plain": [
       "<Figure size 500x300 with 1 Axes>"
      ]
     },
     "metadata": {},
     "output_type": "display_data"
    }
   ],
   "source": [
    "fig, ax = plt.subplots(figsize=(5, 3))\n",
    "ax.plot(history.history['accuracy'])\n",
    "ax.plot(history.history['val_accuracy'])\n",
    "plt.ylim(0, 1.2)\n",
    "plt.xlabel(\"Epochs\")\n",
    "plt.ylabel('accuracy')\n",
    "plt.legend(['train_accuracy', 'test_accuracy'])\n",
    "plt.title('Neural Network accuracy')\n",
    "plt.show()"
   ]
  },
  {
   "cell_type": "code",
   "execution_count": 20,
   "id": "1cde9378-f7dd-4f5c-b809-dd85779c081c",
   "metadata": {},
   "outputs": [
    {
     "name": "stdout",
     "output_type": "stream",
     "text": [
      "8/8 [==============================] - 0s 1ms/step - loss: 0.3491 - accuracy: 0.8958\n",
      "Wall time: 51 ms\n"
     ]
    },
    {
     "data": {
      "text/plain": [
       "[0.3490694761276245, 0.8958333134651184]"
      ]
     },
     "execution_count": 20,
     "metadata": {},
     "output_type": "execute_result"
    }
   ],
   "source": [
    "%%time\n",
    "model.evaluate(X_test_vector, y_test)"
   ]
  },
  {
   "cell_type": "markdown",
   "id": "672eca9e",
   "metadata": {},
   "source": [
    "<font size=\"4\">5 Convolutional Neural Network</font>"
   ]
  },
  {
   "cell_type": "code",
   "execution_count": 58,
   "id": "4fcce59a",
   "metadata": {},
   "outputs": [
    {
     "name": "stdout",
     "output_type": "stream",
     "text": [
      "Model: \"sequential_8\"\n",
      "_________________________________________________________________\n",
      " Layer (type)                Output Shape              Param #   \n",
      "=================================================================\n",
      " embedding_8 (Embedding)     (None, 50, 128)           256000    \n",
      "                                                                 \n",
      " dropout_15 (Dropout)        (None, 50, 128)           0         \n",
      "                                                                 \n",
      " conv1d_5 (Conv1D)           (None, 46, 128)           82048     \n",
      "                                                                 \n",
      " global_average_pooling1d_8   (None, 128)              0         \n",
      " (GlobalAveragePooling1D)                                        \n",
      "                                                                 \n",
      " dropout_16 (Dropout)        (None, 128)               0         \n",
      "                                                                 \n",
      " dense_19 (Dense)            (None, 32)                4128      \n",
      "                                                                 \n",
      " dropout_17 (Dropout)        (None, 32)                0         \n",
      "                                                                 \n",
      " dense_20 (Dense)            (None, 24)                792       \n",
      "                                                                 \n",
      "=================================================================\n",
      "Total params: 342,968\n",
      "Trainable params: 342,968\n",
      "Non-trainable params: 0\n",
      "_________________________________________________________________\n"
     ]
    }
   ],
   "source": [
    "# build the model with convolutional layer, be careful with overfitting\n",
    "model2 = tf.keras.Sequential([\n",
    "    tf.keras.layers.Embedding(2000, 128, input_length=len(X_train_vector[0])),\n",
    "    tf.keras.layers.Dropout(0.3),\n",
    "    tf.keras.layers.Conv1D(128, 5, activation='relu'),\n",
    "    tf.keras.layers.GlobalAveragePooling1D(),\n",
    "    tf.keras.layers.Dropout(0.3),\n",
    "    tf.keras.layers.Dense(32, activation='relu'),\n",
    "    tf.keras.layers.Dropout(0.1),\n",
    "    tf.keras.layers.Dense(24, activation='softmax')])\n",
    "model2.summary()"
   ]
  },
  {
   "cell_type": "code",
   "execution_count": 59,
   "id": "915050c4",
   "metadata": {},
   "outputs": [],
   "source": [
    "model2.compile(loss='sparse_categorical_crossentropy', optimizer='adam', metrics=['accuracy'])"
   ]
  },
  {
   "cell_type": "code",
   "execution_count": 60,
   "id": "1e403514",
   "metadata": {},
   "outputs": [
    {
     "name": "stdout",
     "output_type": "stream",
     "text": [
      "Wall time: 7.55 s\n"
     ]
    }
   ],
   "source": [
    "%%time\n",
    "history=model2.fit(X_train_vector, y_train, epochs=30,verbose=0,validation_data=(X_test_vector, y_test))"
   ]
  },
  {
   "cell_type": "code",
   "execution_count": 61,
   "id": "ff5c4598",
   "metadata": {
    "scrolled": true
   },
   "outputs": [
    {
     "data": {
      "image/png": "[encoded data removed]",
      "text/plain": [
       "<Figure size 500x300 with 1 Axes>"
      ]
     },
     "metadata": {},
     "output_type": "display_data"
    }
   ],
   "source": [
    "fig, ax = plt.subplots(figsize=(5, 3))\n",
    "ax.plot(history.history['accuracy'])\n",
    "ax.plot(history.history['val_accuracy'])\n",
    "plt.ylim(0, 1.2)\n",
    "plt.xlabel(\"Epochs\")\n",
    "plt.ylabel('accuracy')\n",
    "plt.legend(['train_accuracy', 'test_accuracy'])\n",
    "plt.title('Convolutional Neural Network accuracy')\n",
    "plt.show()"
   ]
  },
  {
   "cell_type": "code",
   "execution_count": 62,
   "id": "f5bf8dce",
   "metadata": {},
   "outputs": [
    {
     "name": "stdout",
     "output_type": "stream",
     "text": [
      "8/8 [==============================] - 0s 3ms/step - loss: 0.1005 - accuracy: 0.9792\n",
      "Wall time: 70.3 ms\n"
     ]
    },
    {
     "data": {
      "text/plain": [
       "[0.10049834102392197, 0.9791666865348816]"
      ]
     },
     "execution_count": 62,
     "metadata": {},
     "output_type": "execute_result"
    }
   ],
   "source": [
    "%%time\n",
    "model2.evaluate(X_test_vector, y_test)"
   ]
  },
  {
   "cell_type": "code",
   "execution_count": null,
   "id": "9c2d4b25",
   "metadata": {},
   "outputs": [],
   "source": []
  }
 ],
 "metadata": {
  "kernelspec": {
   "display_name": "Python 3 (ipykernel)",
   "language": "python",
   "name": "python3"
  },
  "language_info": {
   "codemirror_mode": {
    "name": "ipython",
    "version": 3
   },
   "file_extension": ".py",
   "mimetype": "text/x-python",
   "name": "python",
   "nbconvert_exporter": "python",
   "pygments_lexer": "ipython3",
   "version": "3.9.17"
  }
 },
 "nbformat": 4,
 "nbformat_minor": 5
}
